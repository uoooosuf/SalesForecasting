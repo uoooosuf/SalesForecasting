{
 "cells": [
  {
   "cell_type": "code",
   "execution_count": 6,
   "id": "37d0a8f5",
   "metadata": {},
   "outputs": [
    {
     "name": "stdout",
     "output_type": "stream",
     "text": [
      "Note: you may need to restart the kernel to use updated packages.\n"
     ]
    }
   ],
   "source": [
    "%pip install -Uq upgini catboost\n"
   ]
  },
  {
   "cell_type": "code",
   "execution_count": 2,
   "id": "7aea10b4",
   "metadata": {},
   "outputs": [
    {
     "data": {
      "text/html": [
       "<div>\n",
       "<style scoped>\n",
       "    .dataframe tbody tr th:only-of-type {\n",
       "        vertical-align: middle;\n",
       "    }\n",
       "\n",
       "    .dataframe tbody tr th {\n",
       "        vertical-align: top;\n",
       "    }\n",
       "\n",
       "    .dataframe thead th {\n",
       "        text-align: right;\n",
       "    }\n",
       "</style>\n",
       "<table border=\"1\" class=\"dataframe\">\n",
       "  <thead>\n",
       "    <tr style=\"text-align: right;\">\n",
       "      <th></th>\n",
       "      <th>date</th>\n",
       "      <th>store</th>\n",
       "      <th>item</th>\n",
       "      <th>sales</th>\n",
       "    </tr>\n",
       "  </thead>\n",
       "  <tbody>\n",
       "    <tr>\n",
       "      <th>0</th>\n",
       "      <td>2013-01-01</td>\n",
       "      <td>7</td>\n",
       "      <td>5</td>\n",
       "      <td>5</td>\n",
       "    </tr>\n",
       "    <tr>\n",
       "      <th>1</th>\n",
       "      <td>2013-01-01</td>\n",
       "      <td>4</td>\n",
       "      <td>9</td>\n",
       "      <td>19</td>\n",
       "    </tr>\n",
       "    <tr>\n",
       "      <th>2</th>\n",
       "      <td>2013-01-01</td>\n",
       "      <td>1</td>\n",
       "      <td>33</td>\n",
       "      <td>37</td>\n",
       "    </tr>\n",
       "    <tr>\n",
       "      <th>3</th>\n",
       "      <td>2013-01-01</td>\n",
       "      <td>3</td>\n",
       "      <td>41</td>\n",
       "      <td>14</td>\n",
       "    </tr>\n",
       "    <tr>\n",
       "      <th>4</th>\n",
       "      <td>2013-01-01</td>\n",
       "      <td>5</td>\n",
       "      <td>24</td>\n",
       "      <td>26</td>\n",
       "    </tr>\n",
       "  </tbody>\n",
       "</table>\n",
       "</div>"
      ],
      "text/plain": [
       "        date store item  sales\n",
       "0 2013-01-01     7    5      5\n",
       "1 2013-01-01     4    9     19\n",
       "2 2013-01-01     1   33     37\n",
       "3 2013-01-01     3   41     14\n",
       "4 2013-01-01     5   24     26"
      ]
     },
     "execution_count": 2,
     "metadata": {},
     "output_type": "execute_result"
    }
   ],
   "source": [
    "from os.path import exists\n",
    "import pandas as pd\n",
    "\n",
    "df_path = \"train.csv.zip\" if exists(\"train.csv.zip\") else \" https: // github.com/upgini/upgini/raw/main/notebook/train.csv.zip\"\n",
    "df = pd.read_csv(df_path)\n",
    "df = df.sample(n=19_000, random_state=0)\n",
    "df[\"store\"] = df[\"store\"].astype(str)\n",
    "df[\"item\"] = df[\"item\"].astype(str)\n",
    "\n",
    "df[\"date\"] = pd.to_datetime(df[\"date\"])\n",
    "\n",
    "df.sort_values(\"date\", inplace=True)\n",
    "df.reset_index(inplace=True, drop=True)\n",
    "df.head()\n"
   ]
  },
  {
   "cell_type": "code",
   "execution_count": 3,
   "id": "c1cfc711",
   "metadata": {},
   "outputs": [],
   "source": [
    "train = df[df[\"date\"] < \"2017-01-01\"]\n",
    "test = df[df[\"date\"] >= \"2017-01-01\"]"
   ]
  },
  {
   "cell_type": "code",
   "execution_count": 4,
   "id": "d281c406",
   "metadata": {},
   "outputs": [],
   "source": [
    "train_features = train.drop(columns=[\"sales\"])\n",
    "train_target = train[\"sales\"]\n",
    "test_features = test.drop(columns=[\"sales\"])\n",
    "test_target = test[\"sales\"]"
   ]
  },
  {
   "cell_type": "code",
   "execution_count": 5,
   "id": "e1271ded",
   "metadata": {},
   "outputs": [
    {
     "ename": "ModuleNotFoundError",
     "evalue": "No module named 'upgini'",
     "output_type": "error",
     "traceback": [
      "\u001b[0;31m---------------------------------------------------------------------------\u001b[0m",
      "\u001b[0;31mModuleNotFoundError\u001b[0m                       Traceback (most recent call last)",
      "\u001b[1;32m/Users/macbook/Desktop/data_science/Machine_learning/PL_ML_With_Python /SaleFocasting.ipynb Cell 5\u001b[0m in \u001b[0;36m<cell line: 1>\u001b[0;34m()\u001b[0m\n\u001b[0;32m----> <a href='vscode-notebook-cell:/Users/macbook/Desktop/data_science/Machine_learning/PL_ML_With_Python%20/SaleFocasting.ipynb#W4sZmlsZQ%3D%3D?line=0'>1</a>\u001b[0m \u001b[39mfrom\u001b[39;00m \u001b[39mupgini\u001b[39;00m \u001b[39mimport\u001b[39;00m FeaturesEnricher, Searchkey\n\u001b[1;32m      <a href='vscode-notebook-cell:/Users/macbook/Desktop/data_science/Machine_learning/PL_ML_With_Python%20/SaleFocasting.ipynb#W4sZmlsZQ%3D%3D?line=1'>2</a>\u001b[0m \u001b[39mfrom\u001b[39;00m \u001b[39mupgini\u001b[39;00m\u001b[39m.\u001b[39;00m\u001b[39mmetadata\u001b[39;00m \u001b[39mimport\u001b[39;00m CVType\n\u001b[1;32m      <a href='vscode-notebook-cell:/Users/macbook/Desktop/data_science/Machine_learning/PL_ML_With_Python%20/SaleFocasting.ipynb#W4sZmlsZQ%3D%3D?line=3'>4</a>\u001b[0m enricher \u001b[39m=\u001b[39m FeaturesEnricher(\n\u001b[1;32m      <a href='vscode-notebook-cell:/Users/macbook/Desktop/data_science/Machine_learning/PL_ML_With_Python%20/SaleFocasting.ipynb#W4sZmlsZQ%3D%3D?line=4'>5</a>\u001b[0m     search_keys \u001b[39m=\u001b[39m {\n\u001b[1;32m      <a href='vscode-notebook-cell:/Users/macbook/Desktop/data_science/Machine_learning/PL_ML_With_Python%20/SaleFocasting.ipynb#W4sZmlsZQ%3D%3D?line=5'>6</a>\u001b[0m         \u001b[39m\"\u001b[39m\u001b[39mdate\u001b[39m\u001b[39m\"\u001b[39m: SearchKey\u001b[39m.\u001b[39mDATE,\n\u001b[1;32m      <a href='vscode-notebook-cell:/Users/macbook/Desktop/data_science/Machine_learning/PL_ML_With_Python%20/SaleFocasting.ipynb#W4sZmlsZQ%3D%3D?line=6'>7</a>\u001b[0m     },\n\u001b[1;32m      <a href='vscode-notebook-cell:/Users/macbook/Desktop/data_science/Machine_learning/PL_ML_With_Python%20/SaleFocasting.ipynb#W4sZmlsZQ%3D%3D?line=7'>8</a>\u001b[0m     cv \u001b[39m=\u001b[39m CVType\u001b[39m.\u001b[39mtime_series\n\u001b[1;32m      <a href='vscode-notebook-cell:/Users/macbook/Desktop/data_science/Machine_learning/PL_ML_With_Python%20/SaleFocasting.ipynb#W4sZmlsZQ%3D%3D?line=8'>9</a>\u001b[0m )\n",
      "\u001b[0;31mModuleNotFoundError\u001b[0m: No module named 'upgini'"
     ]
    }
   ],
   "source": [
    "from upgini import FeaturesEnricher, Searchkey\n",
    "from upgini.metadata import CVType\n",
    "\n",
    "enricher = FeaturesEnricher(\n",
    "    search_keys = {\n",
    "        \"date\": SearchKey.DATE,\n",
    "    },\n",
    "    cv = CVType.time_series\n",
    ")\n",
    "enricher.fit(train_features,\n",
    "             train_target,\n",
    "             eval_set =[(test_features, test_target)]\n",
    "             )"
   ]
  },
  {
   "cell_type": "code",
   "execution_count": null,
   "id": "183919a2",
   "metadata": {},
   "outputs": [],
   "source": []
  },
  {
   "cell_type": "code",
   "execution_count": null,
   "id": "181ab332",
   "metadata": {},
   "outputs": [],
   "source": []
  },
  {
   "cell_type": "code",
   "execution_count": null,
   "id": "37551201",
   "metadata": {},
   "outputs": [],
   "source": []
  }
 ],
 "metadata": {
  "kernelspec": {
   "display_name": "Python 3.10.5 64-bit",
   "language": "python",
   "name": "python3"
  },
  "language_info": {
   "codemirror_mode": {
    "name": "ipython",
    "version": 3
   },
   "file_extension": ".py",
   "mimetype": "text/x-python",
   "name": "python",
   "nbconvert_exporter": "python",
   "pygments_lexer": "ipython3",
   "version": "3.10.5"
  },
  "vscode": {
   "interpreter": {
    "hash": "aee8b7b246df8f9039afb4144a1f6fd8d2ca17a180786b69acc140d282b71a49"
   }
  }
 },
 "nbformat": 4,
 "nbformat_minor": 5
}
